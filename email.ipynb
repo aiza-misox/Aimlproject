{
 "cells": [
  {
   "cell_type": "code",
   "execution_count": 10,
   "metadata": {},
   "outputs": [],
   "source": [
    "import numpy as np\n",
    "\n"
   ]
  },
  {
   "cell_type": "code",
   "execution_count": 11,
   "metadata": {},
   "outputs": [
    {
     "name": "stdout",
     "output_type": "stream",
     "text": [
      "<class 'pandas.core.frame.DataFrame'>\n",
      "RangeIndex: 5573 entries, 0 to 5572\n",
      "Data columns (total 2 columns):\n",
      " #   Column    Non-Null Count  Dtype \n",
      "---  ------    --------------  ----- \n",
      " 0   Category  5573 non-null   object\n",
      " 1   Message   5573 non-null   object\n",
      "dtypes: object(2)\n",
      "memory usage: 87.2+ KB\n",
      "0                  ham\n",
      "1                  ham\n",
      "2                 spam\n",
      "3                  ham\n",
      "4                  ham\n",
      "             ...      \n",
      "5568               ham\n",
      "5569               ham\n",
      "5570               ham\n",
      "5571               ham\n",
      "5572    {\"mode\":\"full\"\n",
      "Name: Category, Length: 5573, dtype: object\n"
     ]
    }
   ],
   "source": [
    "import pandas as pd\n",
    "df_data=pd.read_csv('email.csv',encoding='latin-1')\n",
    "df_data.info()\n",
    "df_data.shape\n",
    "x=df_data['Message']\n",
    "y=df_data['Category']\n",
    "print(y)\n",
    "from sklearn.model_selection import train_test_split\n",
    "from sklearn.feature_extraction.text import TfidfVectorizer\n"
   ]
  },
  {
   "cell_type": "code",
   "execution_count": 12,
   "metadata": {},
   "outputs": [],
   "source": [
    "import os"
   ]
  },
  {
   "cell_type": "code",
   "execution_count": 18,
   "metadata": {},
   "outputs": [
    {
     "name": "stdout",
     "output_type": "stream",
     "text": [
      "c:\\Users\\Yasmin\\.ipython\\profile_default\\ml\n",
      "['email.csv', 'email.ipynb', 'email.pkl', 'health risk', 'ml.html', 'spam email.py']\n"
     ]
    }
   ],
   "source": [
    "print(os.getcwd())\n",
    "print(os.listdir())"
   ]
  },
  {
   "cell_type": "code",
   "execution_count": 22,
   "metadata": {},
   "outputs": [
    {
     "name": "stdout",
     "output_type": "stream",
     "text": [
      " Volume in drive C has no label.\n",
      " Volume Serial Number is 76C1-6BE9\n",
      "\n",
      " Directory of c:\\Users\\Yasmin\\.ipython\\profile_default\\ml\n",
      "\n",
      "\n",
      " Directory of c:\\Users\\Yasmin\\.ipython\\profile_default\\ml\n",
      "\n",
      "07-11-2024  22:04           371,628 email.pkl\n",
      "               1 File(s)        371,628 bytes\n",
      "               0 Dir(s)  464,678,154,240 bytes free\n"
     ]
    }
   ],
   "source": [
    "\n",
    "ls -l email.pkl"
   ]
  },
  {
   "cell_type": "code",
   "execution_count": null,
   "metadata": {},
   "outputs": [],
   "source": [
    "chmod +r sp"
   ]
  },
  {
   "cell_type": "code",
   "execution_count": 15,
   "metadata": {},
   "outputs": [
    {
     "name": "stdout",
     "output_type": "stream",
     "text": [
      "Accuracy: 0.9883408071748879\n"
     ]
    }
   ],
   "source": [
    "from sklearn.feature_extraction.text import CountVectorizer\n",
    "vector=CountVectorizer()\n",
    "x_train,x_test,y_train,y_test=train_test_split(x,y,test_size=0.2,random_state=3)\n",
    "\n",
    "x_train=vector.fit_transform(x_train)\n",
    "x_test=vector.transform(x_test)\n",
    "\n",
    "from sklearn.naive_bayes import MultinomialNB \n",
    "from sklearn.metrics import accuracy_score\n",
    "model=MultinomialNB()\n",
    "\n",
    "model.fit(x_train,y_train)\n",
    "\n",
    "y_predict=model.predict(x_test)\n",
    "accuracy=accuracy_score(y_test,y_predict)\n",
    "print(\"Accuracy:\",accuracy)"
   ]
  },
  {
   "cell_type": "code",
   "execution_count": 17,
   "metadata": {},
   "outputs": [
    {
     "name": "stdout",
     "output_type": "stream",
     "text": [
      "MultinomialNB()\n",
      "The message is:ham\n"
     ]
    }
   ],
   "source": [
    "import pickle\n",
    "with open('email.pkl','wb') as file:\n",
    "  pickle.dump(model,file)\n",
    "def predict(message):\n",
    "    msgvector=vector.transform([message])\n",
    "    prediction=model.predict(msgvector)[0]\n",
    "    return prediction\n",
    "\n",
    "with open('email.pkl','rb') as file:\n",
    "     model=pickle.load(file)\n",
    "print(model)\n",
    "UserMessage=input('Enter the text to predict:')\n",
    "prediction=predict(UserMessage)\n",
    "print(f'The message is:{prediction}')"
   ]
  }
 ],
 "metadata": {
  "kernelspec": {
   "display_name": "Python 3",
   "language": "python",
   "name": "python3"
  },
  "language_info": {
   "codemirror_mode": {
    "name": "ipython",
    "version": 3
   },
   "file_extension": ".py",
   "mimetype": "text/x-python",
   "name": "python",
   "nbconvert_exporter": "python",
   "pygments_lexer": "ipython3",
   "version": "3.11.9"
  }
 },
 "nbformat": 4,
 "nbformat_minor": 2
}
